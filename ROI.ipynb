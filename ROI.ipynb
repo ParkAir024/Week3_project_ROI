{
 "cells": [
  {
   "cell_type": "code",
   "execution_count": 2,
   "id": "892665c6",
   "metadata": {},
   "outputs": [
    {
     "name": "stdout",
     "output_type": "stream",
     "text": [
      "What is the property price?: 15000\n",
      "What is the monthly rent for the property?: 1200\n",
      "How much are the annual expenses?: 400\n",
      "The Return on Investment for the property is: 93.33%\n"
     ]
    }
   ],
   "source": [
    "class RentalProperty:\n",
    "    def __init__(self,purchase, monthly, expenses):\n",
    "        self.purchase = purchase\n",
    "        self.monthly = monthly\n",
    "        self.expenses = expenses\n",
    "\n",
    "    def ReturnOnInvestment(self):\n",
    "        revenue = self.monthly * 12\n",
    "        income = revenue - self.expenses\n",
    "        roi = (income/self.purchase)*100\n",
    "        return roi\n",
    "    \n",
    "if __name__ == \"__main__\":\n",
    "    purchase = float(input(\"What is the property price?: \"))\n",
    "    monthly = float(input(\"What is the monthly rent for the property?: \"))\n",
    "    expenses = float(input(\"How much are the annual expenses?: \"))\n",
    "\n",
    "    rental_property = RentalProperty(purchase, monthly, expenses)\n",
    "\n",
    "    roi = rental_property.ReturnOnInvestment()\n",
    "\n",
    "    print(f\"The Return on Investment for the property is: {roi:.2f}%\")\n"
   ]
  },
  {
   "cell_type": "code",
   "execution_count": null,
   "id": "635e80ef",
   "metadata": {},
   "outputs": [],
   "source": []
  }
 ],
 "metadata": {
  "kernelspec": {
   "display_name": "Python 3 (ipykernel)",
   "language": "python",
   "name": "python3"
  },
  "language_info": {
   "codemirror_mode": {
    "name": "ipython",
    "version": 3
   },
   "file_extension": ".py",
   "mimetype": "text/x-python",
   "name": "python",
   "nbconvert_exporter": "python",
   "pygments_lexer": "ipython3",
   "version": "3.11.5"
  }
 },
 "nbformat": 4,
 "nbformat_minor": 5
}
